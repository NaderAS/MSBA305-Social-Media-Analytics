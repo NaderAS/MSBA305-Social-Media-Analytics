{
 "cells": [
  {
   "cell_type": "markdown",
   "id": "6230ef88",
   "metadata": {},
   "source": [
    "## Introduction\n",
    "\n",
    "This notebook builds a social media knowledge graph using Neo4j. We define users, posts, topics, and platforms, then connect them via relationships like `CREATED`, `TAGGED_WITH`, `POSTED_ON`, and `ENGAGED_WITH`."
   ]
  },
  {
   "cell_type": "code",
   "execution_count": 1,
   "id": "1d0a5302",
   "metadata": {},
   "outputs": [],
   "source": [
    "# importing our libraries\n",
    "\n",
    "from neo4j import GraphDatabase\n",
    "from datetime import datetime, timedelta\n",
    "import random"
   ]
  },
  {
   "cell_type": "code",
   "execution_count": 2,
   "id": "c410d6de",
   "metadata": {},
   "outputs": [],
   "source": [
    "# Connect to Neo4j\n",
    "uri = \"bolt://localhost:7687\" \n",
    "username = \"neo4j\"\n",
    "password = \"12345678\"\n",
    "\n",
    "driver = GraphDatabase.driver(uri, auth=(username, password))"
   ]
  },
  {
   "cell_type": "markdown",
   "id": "adcf1b25",
   "metadata": {},
   "source": [
    "### 🧾 Data Initialization\n",
    "\n",
    "Here we define sample data for users, posts, topics, and platforms. Each entity has properties like IDs, timestamps, and engagement counts. These data will be inserted into the Neo4j database."
   ]
  },
  {
   "cell_type": "markdown",
   "id": "bc453215",
   "metadata": {},
   "source": [
    "#### Create Users (10 users)"
   ]
  },
  {
   "cell_type": "code",
   "execution_count": 3,
   "id": "06f0667a",
   "metadata": {},
   "outputs": [
    {
     "name": "stderr",
     "output_type": "stream",
     "text": [
      "C:\\Users\\MaisoonAboFakher\\AppData\\Local\\Temp\\ipykernel_25324\\2182842114.py:27: DeprecationWarning: write_transaction has been renamed to execute_write\n",
      "  session.write_transaction(create_users, users)\n"
     ]
    },
    {
     "name": "stdout",
     "output_type": "stream",
     "text": [
      "✅ 10 users created in Neo4j.\n"
     ]
    }
   ],
   "source": [
    "# === User Data ===\n",
    "users = [\n",
    "    {\"user_id\": \"U1\", \"username\": \"social_star\", \"join_date\": \"2020-01-15\", \"follower_count\": 12500, \"verified\": True},\n",
    "    {\"user_id\": \"U2\", \"username\": \"tech_guru\", \"join_date\": \"2019-05-22\", \"follower_count\": 8700, \"verified\": False},\n",
    "    {\"user_id\": \"U3\", \"username\": \"fitness_fan\", \"join_date\": \"2021-03-10\", \"follower_count\": 4300, \"verified\": False},\n",
    "    {\"user_id\": \"U4\", \"username\": \"data_dude\", \"join_date\": \"2018-11-18\", \"follower_count\": 18000, \"verified\": True},\n",
    "    {\"user_id\": \"U5\", \"username\": \"gadget_queen\", \"join_date\": \"2020-09-05\", \"follower_count\": 3000, \"verified\": False},\n",
    "    {\"user_id\": \"U6\", \"username\": \"health_blogger\", \"join_date\": \"2021-02-14\", \"follower_count\": 2100, \"verified\": False},\n",
    "    {\"user_id\": \"U7\", \"username\": \"eco_activist\", \"join_date\": \"2019-08-22\", \"follower_count\": 10000, \"verified\": True},\n",
    "    {\"user_id\": \"U8\", \"username\": \"fashionista\", \"join_date\": \"2020-04-28\", \"follower_count\": 8000, \"verified\": False},\n",
    "    {\"user_id\": \"U9\", \"username\": \"travel_enthusiast\", \"join_date\": \"2022-06-12\", \"follower_count\": 5400, \"verified\": False},\n",
    "    {\"user_id\": \"U10\", \"username\": \"bookworm\", \"join_date\": \"2021-12-07\", \"follower_count\": 6700, \"verified\": True},\n",
    "]\n",
    "\n",
    "# === Create User Nodes ===\n",
    "def create_users(tx, users):\n",
    "    for user in users:\n",
    "        tx.run(\"\"\"\n",
    "            MERGE (u:User {user_id: $user_id})\n",
    "            SET u.username = $username,\n",
    "                u.join_date = date($join_date),\n",
    "                u.follower_count = $follower_count\n",
    "        \"\"\", **user)\n",
    "\n",
    "# === Run it ===\n",
    "with driver.session() as session:\n",
    "    session.write_transaction(create_users, users)\n",
    "\n",
    "print(\"✅ 10 users created in Neo4j.\")"
   ]
  },
  {
   "cell_type": "markdown",
   "id": "d140d1e9",
   "metadata": {},
   "source": [
    "#### Create Posts (20 Posts)"
   ]
  },
  {
   "cell_type": "code",
   "execution_count": 4,
   "id": "0aef4f22",
   "metadata": {},
   "outputs": [
    {
     "name": "stdout",
     "output_type": "stream",
     "text": [
      "✅ 20 posts created in Neo4j.\n"
     ]
    },
    {
     "name": "stderr",
     "output_type": "stream",
     "text": [
      "C:\\Users\\MaisoonAboFakher\\AppData\\Local\\Temp\\ipykernel_25324\\1913326817.py:37: DeprecationWarning: write_transaction has been renamed to execute_write\n",
      "  session.write_transaction(create_posts, posts)\n"
     ]
    }
   ],
   "source": [
    "# --- Post Data --- #\n",
    "posts = [\n",
    "    {\"post_id\": \"P1\", \"timestamp\": \"2023-01-05T09:30:00\", \"content_type\": \"image\", \"like_count\": 453, \"share_count\": 120},\n",
    "    {\"post_id\": \"P2\", \"timestamp\": \"2023-01-06T14:22:00\", \"content_type\": \"text\", \"like_count\": 127, \"share_count\": 45},\n",
    "    {\"post_id\": \"P3\", \"timestamp\": \"2023-01-07T18:15:00\", \"content_type\": \"video\", \"like_count\": 2145, \"share_count\": 610},\n",
    "    {\"post_id\": \"P4\", \"timestamp\": \"2023-01-08T11:30:00\", \"content_type\": \"text\", \"like_count\": 987, \"share_count\": 312},\n",
    "    {\"post_id\": \"P5\", \"timestamp\": \"2023-01-09T13:00:00\", \"content_type\": \"image\", \"like_count\": 203, \"share_count\": 70},\n",
    "    {\"post_id\": \"P6\", \"timestamp\": \"2023-01-10T15:30:00\", \"content_type\": \"video\", \"like_count\": 1145, \"share_count\": 350},\n",
    "    {\"post_id\": \"P7\", \"timestamp\": \"2023-01-11T17:00:00\", \"content_type\": \"text\", \"like_count\": 55, \"share_count\": 20},\n",
    "    {\"post_id\": \"P8\", \"timestamp\": \"2023-01-12T12:45:00\", \"content_type\": \"image\", \"like_count\": 322, \"share_count\": 98},\n",
    "    {\"post_id\": \"P9\", \"timestamp\": \"2023-01-13T10:30:00\", \"content_type\": \"video\", \"like_count\": 783, \"share_count\": 210},\n",
    "    {\"post_id\": \"P10\", \"timestamp\": \"2023-01-14T14:00:00\", \"content_type\": \"text\", \"like_count\": 150, \"share_count\": 55},\n",
    "    {\"post_id\": \"P11\", \"timestamp\": \"2023-01-15T16:00:00\", \"content_type\": \"video\", \"like_count\": 952, \"share_count\": 275},\n",
    "    {\"post_id\": \"P12\", \"timestamp\": \"2023-01-16T19:15:00\", \"content_type\": \"image\", \"like_count\": 647, \"share_count\": 180},\n",
    "    {\"post_id\": \"P13\", \"timestamp\": \"2023-01-17T10:30:00\", \"content_type\": \"text\", \"like_count\": 302, \"share_count\": 85},\n",
    "    {\"post_id\": \"P14\", \"timestamp\": \"2023-01-18T11:45:00\", \"content_type\": \"video\", \"like_count\": 1280, \"share_count\": 420},\n",
    "    {\"post_id\": \"P15\", \"timestamp\": \"2023-01-19T13:00:00\", \"content_type\": \"image\", \"like_count\": 200, \"share_count\": 65},\n",
    "    {\"post_id\": \"P16\", \"timestamp\": \"2023-01-20T14:15:00\", \"content_type\": \"text\", \"like_count\": 75, \"share_count\": 28},\n",
    "    {\"post_id\": \"P17\", \"timestamp\": \"2023-01-21T15:30:00\", \"content_type\": \"video\", \"like_count\": 56, \"share_count\": 17},\n",
    "    {\"post_id\": \"P18\", \"timestamp\": \"2023-01-22T17:00:00\", \"content_type\": \"image\", \"like_count\": 300, \"share_count\": 92},\n",
    "    {\"post_id\": \"P19\", \"timestamp\": \"2023-01-23T18:15:00\", \"content_type\": \"text\", \"like_count\": 190, \"share_count\": 60},\n",
    "    {\"post_id\": \"P20\", \"timestamp\": \"2023-01-24T19:00:00\", \"content_type\": \"video\", \"like_count\": 245, \"share_count\": 88},\n",
    "]\n",
    "\n",
    "# --- Function to Insert Posts --- #\n",
    "def create_posts(tx, posts):\n",
    "    for post in posts:\n",
    "        tx.run(\"\"\"\n",
    "            MERGE (p:Post {post_id: $post_id})\n",
    "            SET p.timestamp = datetime($timestamp),\n",
    "                p.content_type = $content_type,\n",
    "                p.like_count = $like_count\n",
    "        \"\"\", **post)\n",
    "\n",
    "# --- Execute --- #\n",
    "with driver.session() as session:\n",
    "    session.write_transaction(create_posts, posts)\n",
    "\n",
    "print(\"✅ 20 posts created in Neo4j.\")"
   ]
  },
  {
   "cell_type": "markdown",
   "id": "868e2bcd",
   "metadata": {},
   "source": [
    "#### 3. Create Topics (8 Topics)"
   ]
  },
  {
   "cell_type": "code",
   "execution_count": 5,
   "id": "ed47c461",
   "metadata": {},
   "outputs": [
    {
     "name": "stderr",
     "output_type": "stream",
     "text": [
      "C:\\Users\\MaisoonAboFakher\\AppData\\Local\\Temp\\ipykernel_25324\\2546786560.py:24: DeprecationWarning: write_transaction has been renamed to execute_write\n",
      "  session.write_transaction(create_topics, topics)\n"
     ]
    },
    {
     "name": "stdout",
     "output_type": "stream",
     "text": [
      "✅ 8 topics created in Neo4j.\n"
     ]
    }
   ],
   "source": [
    "# --- Topic Data --- #\n",
    "topics = [\n",
    "    {\"topic_id\": \"T1\", \"name\": \"Data Science\", \"popularity_score\": 85},\n",
    "    {\"topic_id\": \"T2\", \"name\": \"Tech News\", \"popularity_score\": 75},\n",
    "    {\"topic_id\": \"T3\", \"name\": \"Fitness\", \"popularity_score\": 65},\n",
    "    {\"topic_id\": \"T4\", \"name\": \"Travel\", \"popularity_score\": 80},\n",
    "    {\"topic_id\": \"T5\", \"name\": \"Health\", \"popularity_score\": 70},\n",
    "    {\"topic_id\": \"T6\", \"name\": \"Fashion\", \"popularity_score\": 60},\n",
    "    {\"topic_id\": \"T7\", \"name\": \"Food\", \"popularity_score\": 72},\n",
    "    {\"topic_id\": \"T8\", \"name\": \"Education\", \"popularity_score\": 68}\n",
    "]\n",
    "\n",
    "# --- Function to Insert Topic Nodes --- #\n",
    "def create_topics(tx, topics):\n",
    "    for topic in topics:\n",
    "        tx.run(\"\"\"\n",
    "            MERGE (t:Topic {topic_id: $topic_id})\n",
    "            SET t.name = $name,\n",
    "                t.popularity_score = $popularity_score\n",
    "        \"\"\", **topic)\n",
    "\n",
    "# --- Run It --- #\n",
    "with driver.session() as session:\n",
    "    session.write_transaction(create_topics, topics)\n",
    "\n",
    "print(\"✅ 8 topics created in Neo4j.\")"
   ]
  },
  {
   "cell_type": "markdown",
   "id": "fff7508a",
   "metadata": {},
   "source": [
    "#### 4. Create Platforms (3 Platforms)"
   ]
  },
  {
   "cell_type": "code",
   "execution_count": 6,
   "id": "ace43be3",
   "metadata": {},
   "outputs": [
    {
     "name": "stderr",
     "output_type": "stream",
     "text": [
      "C:\\Users\\MaisoonAboFakher\\AppData\\Local\\Temp\\ipykernel_25324\\3161938794.py:19: DeprecationWarning: write_transaction has been renamed to execute_write\n",
      "  session.write_transaction(create_platforms, platforms)\n"
     ]
    },
    {
     "name": "stdout",
     "output_type": "stream",
     "text": [
      "✅ 3 platforms created in Neo4j.\n"
     ]
    }
   ],
   "source": [
    "# --- Platform Data --- #\n",
    "platforms = [\n",
    "    {\"platform_id\": \"Pl1\", \"name\": \"Twitter\", \"monthly_active_users\": 330_000_000},\n",
    "    {\"platform_id\": \"Pl2\", \"name\": \"Instagram\", \"monthly_active_users\": 1_500_000_000},\n",
    "    {\"platform_id\": \"Pl3\", \"name\": \"YouTube\", \"monthly_active_users\": 2_200_000_000}\n",
    "]\n",
    "\n",
    "# --- Function to Create Platforms --- #\n",
    "def create_platforms(tx, platforms):\n",
    "    for platform in platforms:\n",
    "        tx.run(\"\"\"\n",
    "            MERGE (p:Platform {platform_id: $platform_id})\n",
    "            SET p.name = $name,\n",
    "                p.monthly_active_users = $monthly_active_users\n",
    "        \"\"\", **platform)\n",
    "\n",
    "# --- Run it --- #\n",
    "with driver.session() as session:\n",
    "    session.write_transaction(create_platforms, platforms)\n",
    "\n",
    "print(\"✅ 3 platforms created in Neo4j.\")"
   ]
  },
  {
   "cell_type": "markdown",
   "id": "f6d4252f",
   "metadata": {},
   "source": [
    "#### 5. Create Relationships (50+ Relationships)\n",
    "\n",
    "#### 🔗 Define and Create Relationships\n",
    "\n",
    "Relationships between nodes such as `FOLLOWS`, `CREATED`, `TAGGED_WITH`, `POSTED_ON`, and `ENGAGED_WITH` are established in this section. These relationships define how entities interact with each other."
   ]
  },
  {
   "cell_type": "code",
   "execution_count": 7,
   "id": "6e0bc634",
   "metadata": {},
   "outputs": [],
   "source": [
    "# === Sample relationship data ===\n",
    "created_relations = [\n",
    "    (\"U1\", \"P1\", \"2023-01-05\"), (\"U2\", \"P2\", \"2023-01-06\"), (\"U3\", \"P3\", \"2023-01-07\"),\n",
    "    (\"U4\", \"P4\", \"2023-01-08\"), (\"U5\", \"P5\", \"2023-01-09\"), (\"U6\", \"P6\", \"2023-01-10\"),\n",
    "    (\"U7\", \"P7\", \"2023-01-11\"), (\"U8\", \"P8\", \"2023-01-12\"), (\"U9\", \"P9\", \"2023-01-13\"),\n",
    "    (\"U10\", \"P10\", \"2023-01-14\"), (\"U1\", \"P11\", \"2023-01-15\"), (\"U2\", \"P12\", \"2023-01-16\"),\n",
    "    (\"U3\", \"P13\", \"2023-01-17\"), (\"U4\", \"P14\", \"2023-01-18\"), (\"U5\", \"P15\", \"2023-01-19\"),\n",
    "    (\"U6\", \"P16\", \"2023-01-20\"), (\"U7\", \"P17\", \"2023-01-21\"), (\"U8\", \"P18\", \"2023-01-22\"),\n",
    "    (\"U9\", \"P19\", \"2023-01-23\"), (\"U10\", \"P20\", \"2023-01-24\"),\n",
    "]\n",
    "\n",
    "tagged_relations = [\n",
    "    (\"P1\", \"T1\", 0.95), (\"P2\", \"T2\", 0.88), (\"P3\", \"T3\", 0.92), (\"P4\", \"T4\", 0.85),\n",
    "    (\"P5\", \"T5\", 0.91), (\"P6\", \"T6\", 0.89), (\"P7\", \"T7\", 0.86), (\"P8\", \"T8\", 0.87),\n",
    "    (\"P9\", \"T1\", 0.94), (\"P10\", \"T2\", 0.90), (\"P11\", \"T3\", 0.93), (\"P12\", \"T4\", 0.84),\n",
    "    (\"P13\", \"T5\", 0.83), (\"P14\", \"T6\", 0.92), (\"P15\", \"T7\", 0.91), (\"P16\", \"T8\", 0.85),\n",
    "    (\"P17\", \"T1\", 0.87), (\"P18\", \"T2\", 0.93), (\"P19\", \"T3\", 0.95), (\"P20\", \"T4\", 0.89)\n",
    "]\n",
    "\n",
    "posted_relations = [\n",
    "    (\"P1\", \"Pl1\"), (\"P2\", \"Pl2\"), (\"P3\", \"Pl3\"), (\"P4\", \"Pl1\"), (\"P5\", \"Pl2\"),\n",
    "    (\"P6\", \"Pl3\"), (\"P7\", \"Pl1\"), (\"P8\", \"Pl2\"), (\"P9\", \"Pl3\"), (\"P10\", \"Pl1\"),\n",
    "    (\"P11\", \"Pl2\"), (\"P12\", \"Pl3\"), (\"P13\", \"Pl1\"), (\"P14\", \"Pl2\"), (\"P15\", \"Pl3\"),\n",
    "    (\"P16\", \"Pl1\"), (\"P17\", \"Pl2\"), (\"P18\", \"Pl3\"), (\"P19\", \"Pl1\"), (\"P20\", \"Pl2\")\n",
    "]\n",
    "\n",
    "follows_relations = [\n",
    "    (\"U1\", \"U2\", \"2022-01-01\"), (\"U2\", \"U3\", \"2022-02-01\"), (\"U3\", \"U1\", \"2022-03-01\"),\n",
    "    (\"U4\", \"U5\", \"2022-04-01\"), (\"U6\", \"U7\", \"2022-05-01\"), (\"U8\", \"U9\", \"2022-06-01\"),\n",
    "    (\"U10\", \"U1\", \"2022-07-01\")\n",
    "]\n",
    "\n",
    "# Redefine tagged_relations first\n",
    "tagged_relations = [\n",
    "    (\"P1\", \"T1\", 0.95), (\"P2\", \"T2\", 0.88), (\"P3\", \"T3\", 0.92), (\"P4\", \"T4\", 0.85),\n",
    "    (\"P5\", \"T5\", 0.91), (\"P6\", \"T6\", 0.89), (\"P7\", \"T7\", 0.86), (\"P8\", \"T8\", 0.87),\n",
    "    (\"P9\", \"T1\", 0.94), (\"P10\", \"T2\", 0.90), (\"P11\", \"T3\", 0.93), (\"P12\", \"T4\", 0.84),\n",
    "    (\"P13\", \"T5\", 0.83), (\"P14\", \"T6\", 0.92), (\"P15\", \"T7\", 0.91), (\"P16\", \"T8\", 0.85),\n",
    "    (\"P17\", \"T1\", 0.87), (\"P18\", \"T2\", 0.93), (\"P19\", \"T3\", 0.95), (\"P20\", \"T4\", 0.89)\n",
    "]\n",
    "\n",
    "# Define user-topic mapping based on user_id\n",
    "user_topic_map = {\n",
    "    \"U4\": [\"T1\", \"T2\"],  # data_dude\n",
    "    \"U3\": [\"T3\", \"T5\"],  # fitness_fan\n",
    "    \"U6\": [\"T5\", \"T3\"],  # health_blogger\n",
    "    \"U7\": [\"T4\", \"T8\"],  # eco_activist\n",
    "    \"U10\": [\"T8\", \"T1\"],  # bookworm\n",
    "    \"U2\": [\"T2\", \"T1\"],  # tech_guru\n",
    "    \"U1\": [\"T6\", \"T7\"],  # social_star\n",
    "    \"U8\": [\"T6\", \"T7\"],  # fashionista\n",
    "    \"U9\": [\"T4\", \"T7\"],  # travel_enthusiast\n",
    "}\n",
    "\n",
    "tagged_lookup = {}\n",
    "for post_id, topic_id, _ in tagged_relations:\n",
    "    tagged_lookup.setdefault(topic_id, []).append(post_id)\n",
    "\n",
    "# Create the ENGAGED_WITH relationships\n",
    "engaged_with_relations = []\n",
    "\n",
    "for user_id, topic_ids in user_topic_map.items():\n",
    "    used_posts = set()\n",
    "    for topic in topic_ids:\n",
    "        valid_posts = tagged_lookup.get(topic, [])\n",
    "        random.shuffle(valid_posts)\n",
    "        for post_id in valid_posts:\n",
    "            if post_id not in used_posts:\n",
    "                engaged_with_relations.append((\n",
    "                    user_id,\n",
    "                    post_id,\n",
    "                    random.choice([\"like\", \"comment\", \"share\"]),\n",
    "                    (datetime.today() - timedelta(days=random.randint(1, 90))).strftime('%Y-%m-%d')\n",
    "                ))\n",
    "                used_posts.add(post_id)\n",
    "                if len(used_posts) >= 2:\n",
    "                    break"
   ]
  },
  {
   "cell_type": "code",
   "execution_count": 8,
   "id": "6fdefcc5",
   "metadata": {},
   "outputs": [
    {
     "name": "stderr",
     "output_type": "stream",
     "text": [
      "C:\\Users\\MaisoonAboFakher\\AppData\\Local\\Temp\\ipykernel_25324\\1404282561.py:38: DeprecationWarning: write_transaction has been renamed to execute_write\n",
      "  session.write_transaction(create_all_relationships)\n"
     ]
    },
    {
     "data": {
      "text/plain": [
       "'✅ All enriched relationships created (FOLLOWS, CREATED, TAGGED_WITH, POSTED_ON, ENGAGED_WITH).'"
      ]
     },
     "execution_count": 8,
     "metadata": {},
     "output_type": "execute_result"
    }
   ],
   "source": [
    "# === Relationship Creator ===\n",
    "def create_all_relationships(tx):\n",
    "    for u1, u2, date in follows_relations:\n",
    "        tx.run(\"\"\"\n",
    "            MATCH (a:User {user_id: $u1}), (b:User {user_id: $u2})\n",
    "            MERGE (a)-[:FOLLOWS {follow_date: date($date)}]->(b)\n",
    "        \"\"\", u1=u1, u2=u2, date=date)\n",
    "\n",
    "    for u, p, date in created_relations:\n",
    "        tx.run(\"\"\"\n",
    "            MATCH (u:User {user_id: $u}), (p:Post {post_id: $p})\n",
    "            MERGE (u)-[:CREATED {creation_date: date($date)}]->(p)\n",
    "        \"\"\", u=u, p=p, date=date)\n",
    "\n",
    "    for p, t, score in tagged_relations:\n",
    "        tx.run(\"\"\"\n",
    "            MATCH (p:Post {post_id: $p}), (t:Topic {topic_id: $t})\n",
    "            MERGE (p)-[:TAGGED_WITH {relevance_score: $score}]->(t)\n",
    "        \"\"\", p=p, t=t, score=score)\n",
    "\n",
    "    for p, pl in posted_relations:\n",
    "        tx.run(\"\"\"\n",
    "            MATCH (p:Post {post_id: $p}), (pl:Platform {platform_id: $pl})\n",
    "            MERGE (p)-[:POSTED_ON]->(pl)\n",
    "        \"\"\", p=p, pl=pl)\n",
    "\n",
    "    for u, p, etype, date in engaged_with_relations:\n",
    "        tx.run(\"\"\"\n",
    "            MATCH (u:User {user_id: $u}), (p:Post {post_id: $p})\n",
    "            MERGE (u)-[:ENGAGED_WITH {\n",
    "                engagement_type: $etype, \n",
    "                engagement_date: date($date)\n",
    "            }]->(p)\n",
    "        \"\"\", u=u, p=p, etype=etype, date=date)\n",
    "\n",
    "# Run the transaction\n",
    "with driver.session() as session:\n",
    "    session.write_transaction(create_all_relationships)\n",
    "\n",
    "\"✅ All enriched relationships created (FOLLOWS, CREATED, TAGGED_WITH, POSTED_ON, ENGAGED_WITH).\""
   ]
  },
  {
   "cell_type": "markdown",
   "id": "4f8e34d1",
   "metadata": {},
   "source": [
    "### 📊 Analytical Queries\n",
    "\n",
    "In this section, we write Cypher queries to analyze the graph:\n",
    "\n",
    "- Find top influential users based on followers and engagement.\n",
    "- Identify topics with highest average engagement.\n",
    "- Discover which content types perform best on each platform.\n",
    "- Find communities of users engaging with similar topics."
   ]
  },
  {
   "cell_type": "markdown",
   "id": "5e9b7e9e",
   "metadata": {},
   "source": [
    "1. Who are the most influential users based on followers and engagement received?"
   ]
  },
  {
   "cell_type": "code",
   "execution_count": 9,
   "id": "bf2615a3",
   "metadata": {},
   "outputs": [
    {
     "name": "stderr",
     "output_type": "stream",
     "text": [
      "Received notification from DBMS server: {severity: WARNING} {code: Neo.ClientNotification.Statement.UnknownPropertyKeyWarning} {category: UNRECOGNIZED} {title: The provided property key is not in the database} {description: One of the property names in your query is not available in the database, make sure you didn't misspell it or that the label is available when you run this statement in your application (the missing property name is: share_count)} {position: line: 5, column: 55, offset: 174} for query: '\\n    MATCH (u:User)-[:CREATED]->(p:Post)\\n    RETURN u.username AS username, \\n           u.follower_count AS followers, \\n           SUM(coalesce(p.like_count, 0) + coalesce(p.share_count, 0)) AS total_engagement\\n    ORDER BY total_engagement DESC\\n    LIMIT 5\\n    '\n"
     ]
    },
    {
     "name": "stdout",
     "output_type": "stream",
     "text": [
      "📊 Top 5 Most Influential Users:\n",
      "👤 fitness_fan | Followers: 4300 | Engagement: 2447\n",
      "👤 data_dude | Followers: 18000 | Engagement: 2267\n",
      "👤 social_star | Followers: 12500 | Engagement: 1405\n",
      "👤 health_blogger | Followers: 2100 | Engagement: 1220\n",
      "👤 travel_enthusiast | Followers: 5400 | Engagement: 973\n"
     ]
    }
   ],
   "source": [
    "# --- Query Function --- #\n",
    "def get_most_influential_users(tx):\n",
    "    query = \"\"\"\n",
    "    MATCH (u:User)-[:CREATED]->(p:Post)\n",
    "    RETURN u.username AS username, \n",
    "           u.follower_count AS followers, \n",
    "           SUM(coalesce(p.like_count, 0) + coalesce(p.share_count, 0)) AS total_engagement\n",
    "    ORDER BY total_engagement DESC\n",
    "    LIMIT 5\n",
    "    \"\"\"\n",
    "    result = tx.run(query)\n",
    "    return result.data()\n",
    "\n",
    "# --- Run Query and Print Results --- #\n",
    "with driver.session() as session:\n",
    "    top_users = session.execute_read(get_most_influential_users)  # use updated method\n",
    "\n",
    "# --- Display --- #\n",
    "print(\"📊 Top 5 Most Influential Users:\")\n",
    "for user in top_users:\n",
    "    print(f\"👤 {user['username']} | Followers: {user['followers']} | Engagement: {user['total_engagement']}\")"
   ]
  },
  {
   "cell_type": "markdown",
   "id": "6be44339",
   "metadata": {},
   "source": [
    "2. Which topics generate the highest engagement rates?"
   ]
  },
  {
   "cell_type": "code",
   "execution_count": 10,
   "id": "31d3de7c",
   "metadata": {},
   "outputs": [
    {
     "name": "stderr",
     "output_type": "stream",
     "text": [
      "Received notification from DBMS server: {severity: WARNING} {code: Neo.ClientNotification.Statement.UnknownPropertyKeyWarning} {category: UNRECOGNIZED} {title: The provided property key is not in the database} {description: One of the property names in your query is not available in the database, make sure you didn't misspell it or that the label is available when you run this statement in your application (the missing property name is: share_count)} {position: line: 4, column: 55, offset: 129} for query: '\\n    MATCH (p:Post)-[:TAGGED_WITH]->(t:Topic)\\n    RETURN t.name AS topic, \\n           AVG(COALESCE(p.like_count, 0) + COALESCE(p.share_count, 0)) AS avg_engagement\\n    ORDER BY avg_engagement DESC;\\n    '\n"
     ]
    },
    {
     "name": "stdout",
     "output_type": "stream",
     "text": [
      "📊 Topics with Highest Average Engagement:\n",
      "🏷️ Fashion | Avg Engagement: 1212.5\n",
      "🏷️ Fitness | Avg Engagement: 1095.67\n",
      "🏷️ Travel | Avg Engagement: 626.33\n",
      "🏷️ Data Science | Avg Engagement: 430.67\n",
      "🏷️ Health | Avg Engagement: 252.5\n",
      "🏷️ Education | Avg Engagement: 198.5\n",
      "🏷️ Tech News | Avg Engagement: 192.33\n",
      "🏷️ Food | Avg Engagement: 127.5\n"
     ]
    }
   ],
   "source": [
    "# Query Function\n",
    "def get_highest_engagement_topics(tx):\n",
    "    query = \"\"\"\n",
    "    MATCH (p:Post)-[:TAGGED_WITH]->(t:Topic)\n",
    "    RETURN t.name AS topic, \n",
    "           AVG(COALESCE(p.like_count, 0) + COALESCE(p.share_count, 0)) AS avg_engagement\n",
    "    ORDER BY avg_engagement DESC;\n",
    "    \"\"\"\n",
    "    result = tx.run(query)\n",
    "    return result.data()\n",
    "\n",
    "# --- Run Query and Display Results --- #\n",
    "with driver.session() as session:\n",
    "    top_topics = session.execute_read(get_highest_engagement_topics)\n",
    "\n",
    "# --- Display Output --- #\n",
    "print(\"📊 Topics with Highest Average Engagement:\")\n",
    "for topic in top_topics:\n",
    "    avg = topic.get(\"avg_engagement\")\n",
    "    if avg is not None:\n",
    "        print(f\"🏷️ {topic['topic']} | Avg Engagement: {round(avg, 2)}\")\n",
    "    else:\n",
    "        print(f\"🏷️ {topic['topic']} | Avg Engagement: N/A\")"
   ]
  },
  {
   "cell_type": "markdown",
   "id": "aa47fc65",
   "metadata": {},
   "source": [
    "3. What content types perform best on each platform?"
   ]
  },
  {
   "cell_type": "code",
   "execution_count": 11,
   "id": "e63e30ea",
   "metadata": {},
   "outputs": [
    {
     "name": "stdout",
     "output_type": "stream",
     "text": [
      "📊 Best Performing Content Types per Platform:\n",
      "\n",
      "🌐 Instagram  | 📦 video  | 👍 Avg Likes: 633.25\n",
      "🌐 Instagram  | 📦 image  | 👍 Avg Likes: 262.5\n",
      "🌐 Instagram  | 📦 text   | 👍 Avg Likes: 127.0\n",
      "🌐 Twitter    | 📦 image  | 👍 Avg Likes: 453.0\n",
      "🌐 Twitter    | 📦 text   | 👍 Avg Likes: 293.17\n",
      "🌐 YouTube    | 📦 video  | 👍 Avg Likes: 1357.67\n",
      "🌐 YouTube    | 📦 image  | 👍 Avg Likes: 382.33\n"
     ]
    }
   ],
   "source": [
    "# Query Function\n",
    "query = \"\"\"\n",
    "MATCH (p:Post)-[:POSTED_ON]->(pl:Platform)\n",
    "RETURN pl.name AS platform, p.content_type AS type, AVG(p.like_count) AS avg_likes\n",
    "ORDER BY platform, avg_likes DESC\n",
    "\"\"\"\n",
    "\n",
    "with driver.session() as session:\n",
    "    result = session.run(query)\n",
    "    records = result.data()\n",
    "\n",
    "print(\"📊 Best Performing Content Types per Platform:\\n\")\n",
    "for row in records:\n",
    "    print(f\"🌐 {row['platform']:10s} | 📦 {row['type']:6s} | 👍 Avg Likes: {round(row['avg_likes'], 2)}\")"
   ]
  },
  {
   "cell_type": "markdown",
   "id": "351148d5",
   "metadata": {},
   "source": [
    "4. Identify communities of users who engage with similar content."
   ]
  },
  {
   "cell_type": "code",
   "execution_count": 12,
   "id": "e28d5dd1",
   "metadata": {},
   "outputs": [
    {
     "name": "stdout",
     "output_type": "stream",
     "text": [
      "🧩 Content-Based User Communities:\n",
      "\n",
      "📌 Topic: Data Science\n",
      "👥 Users: tech_guru, fitness_fan, data_dude, bookworm\n",
      "\n",
      "📌 Topic: Education\n",
      "👥 Users: eco_activist, bookworm\n",
      "\n",
      "📌 Topic: Fashion\n",
      "👥 Users: social_star, fashionista\n",
      "\n",
      "📌 Topic: Fitness\n",
      "👥 Users: fitness_fan, gadget_queen, health_blogger\n",
      "\n",
      "📌 Topic: Food\n",
      "👥 Users: social_star, fashionista, travel_enthusiast\n",
      "\n",
      "📌 Topic: Health\n",
      "👥 Users: fitness_fan, health_blogger, eco_activist\n",
      "\n",
      "📌 Topic: Tech News\n",
      "👥 Users: tech_guru, data_dude\n",
      "\n",
      "📌 Topic: Travel\n",
      "👥 Users: health_blogger, eco_activist, travel_enthusiast\n",
      "\n"
     ]
    }
   ],
   "source": [
    "query = \"\"\"\n",
    "MATCH (u:User)-[:ENGAGED_WITH]->(p:Post)-[:TAGGED_WITH]->(t:Topic)\n",
    "RETURN t.name AS topic, COLLECT(DISTINCT u.username) AS community\n",
    "ORDER BY topic;\n",
    "\"\"\"\n",
    "\n",
    "with driver.session() as session:\n",
    "    result = session.run(query)\n",
    "    records = result.data()\n",
    "\n",
    "print(\"🧩 Content-Based User Communities:\\n\")\n",
    "for row in records:\n",
    "    print(f\"📌 Topic: {row['topic']}\")\n",
    "    print(f\"👥 Users: {', '.join(row['community'])}\\n\")"
   ]
  }
 ],
 "metadata": {
  "kernelspec": {
   "display_name": "Python (tf-clean)",
   "language": "python",
   "name": "tf-clean"
  },
  "language_info": {
   "codemirror_mode": {
    "name": "ipython",
    "version": 3
   },
   "file_extension": ".py",
   "mimetype": "text/x-python",
   "name": "python",
   "nbconvert_exporter": "python",
   "pygments_lexer": "ipython3",
   "version": "3.10.10"
  }
 },
 "nbformat": 4,
 "nbformat_minor": 5
}
