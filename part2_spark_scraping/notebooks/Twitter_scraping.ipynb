{
  "cells": [
    {
      "cell_type": "code",
      "execution_count": 1,
      "metadata": {},
      "outputs": [
        {
          "name": "stdout",
          "output_type": "stream",
          "text": [
            "Requirement already satisfied: networkx in /opt/anaconda3/lib/python3.12/site-packages (3.3)\n",
            "Note: you may need to restart the kernel to use updated packages.\n"
          ]
        }
      ],
      "source": [
        "%pip install networkx"
      ]
    },
    {
      "cell_type": "code",
      "execution_count": null,
      "metadata": {},
      "outputs": [],
      "source": [
        "import neo4j\n",
        "from neo4j import GraphDatabase\n",
        "import pandas as pd\n",
        "import matplotlib.pyplot as plt\n",
        "import networkx as nx\n",
        "import seaborn as sns\n",
        "import numpy as np\n",
        "from IPython.display import display, HTML "
      ]
    },
    {
      "cell_type": "code",
      "execution_count": 3,
      "metadata": {},
      "outputs": [],
      "source": [
        "class Neo4jConnection:\n",
        "    def __init__(self, uri, user, password):\n",
        "        self.driver = GraphDatabase.driver(uri, auth=(user, password))\n",
        "        \n",
        "    def close(self):\n",
        "        self.driver.close()\n",
        "        \n",
        "    def execute_query(self, query, parameters=None):\n",
        "        \"\"\"Execute a Cypher query and return the results\"\"\"\n",
        "        with self.driver.session() as session:\n",
        "            result = session.run(query, parameters)\n",
        "            return result.data()"
      ]
    },
    {
      "cell_type": "code",
      "execution_count": 4,
      "metadata": {},
      "outputs": [
        {
          "name": "stdout",
          "output_type": "stream",
          "text": [
            "Connected to Neo4j successfully!\n"
          ]
        }
      ],
      "source": [
        "URI = \"bolt://localhost:7687\"\n",
        "USER = \"neo4j\"\n",
        "PASSWORD = \"Joulnar123\"  # Replace with your actual password\n",
        "\n",
        "# Create a connection\n",
        "try:\n",
        "    conn = Neo4jConnection(URI, USER, PASSWORD)\n",
        "    print(\"Connected to Neo4j successfully!\")\n",
        "except Exception as e:\n",
        "    print(f\"Failed to connect to Neo4j: {e}\")"
      ]
    }
  ],
  "metadata": {
    "colab": {
      "provenance": []
    },
    "kernelspec": {
      "display_name": "base",
      "language": "python",
      "name": "python3"
    },
    "language_info": {
      "codemirror_mode": {
        "name": "ipython",
        "version": 3
      },
      "file_extension": ".py",
      "mimetype": "text/x-python",
      "name": "python",
      "nbconvert_exporter": "python",
      "pygments_lexer": "ipython3",
      "version": "3.12.7"
    }
  },
  "nbformat": 4,
  "nbformat_minor": 0
}
